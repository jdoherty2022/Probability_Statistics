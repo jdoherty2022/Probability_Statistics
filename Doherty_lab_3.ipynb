{
  "nbformat": 4,
  "nbformat_minor": 0,
  "metadata": {
    "colab": {
      "provenance": [],
      "collapsed_sections": [],
      "authorship_tag": "ABX9TyOPbucQSi5AU+S/2kABlPKp",
      "include_colab_link": true
    },
    "kernelspec": {
      "name": "python3",
      "display_name": "Python 3"
    },
    "language_info": {
      "name": "python"
    }
  },
  "cells": [
    {
      "cell_type": "markdown",
      "metadata": {
        "id": "view-in-github",
        "colab_type": "text"
      },
      "source": [
        "<a href=\"https://colab.research.google.com/github/jdoherty2022/Probability_Statistics/blob/main/Doherty_lab_3.ipynb\" target=\"_parent\"><img src=\"https://colab.research.google.com/assets/colab-badge.svg\" alt=\"Open In Colab\"/></a>"
      ]
    },
    {
      "cell_type": "markdown",
      "source": [
        "Loops"
      ],
      "metadata": {
        "id": "XA8garSY-fv-"
      }
    },
    {
      "cell_type": "code",
      "execution_count": null,
      "metadata": {
        "colab": {
          "base_uri": "https://localhost:8080/"
        },
        "id": "6QYVb6N4-HkF",
        "outputId": "f16e26b5-8c49-4b09-a229-f189c2d50ae4"
      },
      "outputs": [
        {
          "output_type": "stream",
          "name": "stdout",
          "text": [
            "0\n",
            "1\n",
            "2\n",
            "3\n",
            "4\n",
            "5\n",
            "6\n",
            "7\n",
            "8\n",
            "9\n",
            "10\n",
            "11\n",
            "12\n",
            "13\n",
            "14\n",
            "15\n",
            "16\n",
            "17\n",
            "18\n",
            "19\n",
            "20\n",
            "21\n",
            "22\n",
            "23\n",
            "24\n",
            "25\n",
            "26\n",
            "27\n",
            "28\n",
            "29\n",
            "30\n",
            "31\n",
            "32\n",
            "33\n",
            "34\n",
            "35\n",
            "36\n",
            "37\n",
            "38\n",
            "39\n",
            "40\n",
            "41\n",
            "42\n",
            "43\n",
            "44\n",
            "45\n",
            "46\n",
            "47\n",
            "48\n",
            "49\n",
            "50\n",
            "51\n",
            "52\n",
            "53\n",
            "54\n",
            "55\n",
            "56\n",
            "57\n",
            "58\n",
            "59\n",
            "60\n",
            "61\n",
            "62\n",
            "63\n",
            "64\n",
            "65\n",
            "66\n",
            "67\n",
            "68\n",
            "69\n",
            "70\n",
            "71\n",
            "72\n",
            "73\n",
            "74\n",
            "75\n",
            "76\n",
            "77\n",
            "78\n",
            "79\n",
            "80\n",
            "81\n",
            "82\n",
            "83\n",
            "84\n",
            "85\n",
            "86\n",
            "87\n",
            "88\n",
            "89\n",
            "90\n",
            "91\n",
            "92\n",
            "93\n",
            "94\n",
            "95\n",
            "96\n",
            "97\n",
            "98\n",
            "99\n"
          ]
        }
      ],
      "source": [
        "for i in range(100): #number range for 100 numbers\n",
        "  print(i)"
      ]
    },
    {
      "cell_type": "code",
      "source": [
        "for i in range(5,8): # range 5 to 7\n",
        "  print(i)"
      ],
      "metadata": {
        "colab": {
          "base_uri": "https://localhost:8080/"
        },
        "id": "pHRvdnng-rlN",
        "outputId": "f31a29bf-58ad-4305-825c-a32106610fb7"
      },
      "execution_count": null,
      "outputs": [
        {
          "output_type": "stream",
          "name": "stdout",
          "text": [
            "5\n",
            "6\n",
            "7\n"
          ]
        }
      ]
    },
    {
      "cell_type": "code",
      "source": [
        "for i in range(3):\n",
        "  print(\"Test Number\", i)"
      ],
      "metadata": {
        "colab": {
          "base_uri": "https://localhost:8080/"
        },
        "id": "AkM6YJHe_CX1",
        "outputId": "f0a6ee80-c7d7-4c6a-f854-f47c7b9e2461"
      },
      "execution_count": null,
      "outputs": [
        {
          "output_type": "stream",
          "name": "stdout",
          "text": [
            "Test Number 0\n",
            "Test Number 1\n",
            "Test Number 2\n"
          ]
        }
      ]
    },
    {
      "cell_type": "markdown",
      "source": [
        "Functions"
      ],
      "metadata": {
        "id": "8-INdQv0_mOG"
      }
    },
    {
      "cell_type": "code",
      "source": [
        "def square(x): # how to square a value\n",
        "  return x**2"
      ],
      "metadata": {
        "id": "_EZVfECX_qUW"
      },
      "execution_count": null,
      "outputs": []
    },
    {
      "cell_type": "code",
      "source": [
        "square(5) "
      ],
      "metadata": {
        "colab": {
          "base_uri": "https://localhost:8080/"
        },
        "id": "9iPTTQfU_0SO",
        "outputId": "48eecc13-e347-4fed-fc98-9bc40ce98009"
      },
      "execution_count": null,
      "outputs": [
        {
          "output_type": "execute_result",
          "data": {
            "text/plain": [
              "25"
            ]
          },
          "metadata": {},
          "execution_count": 10
        }
      ]
    },
    {
      "cell_type": "code",
      "source": [
        "square(square(2))"
      ],
      "metadata": {
        "colab": {
          "base_uri": "https://localhost:8080/"
        },
        "id": "HO-DVk6E_5n0",
        "outputId": "5bb5dadb-ad3a-4564-981e-86c49d64a70f"
      },
      "execution_count": null,
      "outputs": [
        {
          "output_type": "execute_result",
          "data": {
            "text/plain": [
              "16"
            ]
          },
          "metadata": {},
          "execution_count": 11
        }
      ]
    },
    {
      "cell_type": "code",
      "source": [
        "def add_two(x): #adding to value\n",
        "      return x+2"
      ],
      "metadata": {
        "id": "SL71TclyAStW"
      },
      "execution_count": null,
      "outputs": []
    },
    {
      "cell_type": "code",
      "source": [
        "add_two(5)"
      ],
      "metadata": {
        "colab": {
          "base_uri": "https://localhost:8080/"
        },
        "id": "mFN3TvhLAa1G",
        "outputId": "0696c134-b189-4ad3-e297-4d0c1246fa18"
      },
      "execution_count": null,
      "outputs": [
        {
          "output_type": "execute_result",
          "data": {
            "text/plain": [
              "7"
            ]
          },
          "metadata": {},
          "execution_count": 13
        }
      ]
    },
    {
      "cell_type": "code",
      "source": [
        "square(add_two(5))"
      ],
      "metadata": {
        "colab": {
          "base_uri": "https://localhost:8080/"
        },
        "id": "7pWGykCeAeQU",
        "outputId": "8a84dd48-ac51-4cb6-fdbf-6a1adf262e79"
      },
      "execution_count": null,
      "outputs": [
        {
          "output_type": "execute_result",
          "data": {
            "text/plain": [
              "49"
            ]
          },
          "metadata": {},
          "execution_count": 14
        }
      ]
    },
    {
      "cell_type": "markdown",
      "source": [
        "logical branching"
      ],
      "metadata": {
        "id": "bJteWGFqBJrF"
      }
    },
    {
      "cell_type": "code",
      "source": [
        "choice = \"apple\" #choice generator"
      ],
      "metadata": {
        "id": "3ExI_VbzAiNV"
      },
      "execution_count": null,
      "outputs": []
    },
    {
      "cell_type": "code",
      "source": [
        "if choice == \"apple\":\n",
        "\n",
        "    print(\"You choose apples.\")\n",
        "\n",
        "else:\n",
        "    \n",
        "    print(\"You did not choose apples.\")"
      ],
      "metadata": {
        "colab": {
          "base_uri": "https://localhost:8080/"
        },
        "id": "iiRncB9LAsBk",
        "outputId": "f2ba134a-7abb-465c-ee46-47704e9b87ff"
      },
      "execution_count": null,
      "outputs": [
        {
          "output_type": "stream",
          "name": "stdout",
          "text": [
            "You choose apples.\n"
          ]
        }
      ]
    },
    {
      "cell_type": "code",
      "source": [
        "choice = \"orange\""
      ],
      "metadata": {
        "id": "aCfH0A5hBuPn"
      },
      "execution_count": null,
      "outputs": []
    },
    {
      "cell_type": "code",
      "source": [
        "if choice == \"apple\":\n",
        "\n",
        "    print(\"You choose apples.\")\n",
        "\n",
        "elif choice == \"orange\":\n",
        "\n",
        "    print(\"You choose oranges.\")\n",
        "\n",
        "else:\n",
        "    \n",
        "    print(\"You did not choose apples or oranges.\")"
      ],
      "metadata": {
        "colab": {
          "base_uri": "https://localhost:8080/"
        },
        "id": "fk6XHrQLB0oP",
        "outputId": "49a44a4b-a872-4af1-bc1d-91b41c54f41b"
      },
      "execution_count": null,
      "outputs": [
        {
          "output_type": "stream",
          "name": "stdout",
          "text": [
            "You choose oranges.\n"
          ]
        }
      ]
    },
    {
      "cell_type": "markdown",
      "source": [
        "user input"
      ],
      "metadata": {
        "id": "TrblrdFnCp3R"
      }
    },
    {
      "cell_type": "code",
      "source": [
        "choice = input(\"bannana\")"
      ],
      "metadata": {
        "id": "Pufn2OBGC1-Q",
        "colab": {
          "base_uri": "https://localhost:8080/"
        },
        "outputId": "90e603e5-bc8e-406a-91b2-798bbc8439b8"
      },
      "execution_count": 1,
      "outputs": [
        {
          "name": "stdout",
          "output_type": "stream",
          "text": [
            "bannanabannana\n"
          ]
        }
      ]
    },
    {
      "cell_type": "code",
      "source": [
        "choice"
      ],
      "metadata": {
        "id": "vOGU_I9mDavp",
        "colab": {
          "base_uri": "https://localhost:8080/",
          "height": 35
        },
        "outputId": "16e6db7b-6185-4990-c4bf-13ad21f1cb65"
      },
      "execution_count": 2,
      "outputs": [
        {
          "output_type": "execute_result",
          "data": {
            "text/plain": [
              "'bannana'"
            ],
            "application/vnd.google.colaboratory.intrinsic+json": {
              "type": "string"
            }
          },
          "metadata": {},
          "execution_count": 2
        }
      ]
    },
    {
      "cell_type": "code",
      "source": [
        "if choice == \"bannana\":\n",
        "\n",
        "    print(\"You choose bannanas.\")\n",
        "\n",
        "elif choice == \"oranges\":\n",
        "\n",
        "    print(\"You choose oranges.\")\n",
        "\n",
        "else:\n",
        "    \n",
        "    print(\"You did not choose bannanas or oranges.\")"
      ],
      "metadata": {
        "id": "VAMAM01i0ytR",
        "colab": {
          "base_uri": "https://localhost:8080/"
        },
        "outputId": "b6445f39-8614-4673-e27a-cfa95458b442"
      },
      "execution_count": 5,
      "outputs": [
        {
          "output_type": "stream",
          "name": "stdout",
          "text": [
            "You choose bannanas.\n"
          ]
        }
      ]
    },
    {
      "cell_type": "markdown",
      "source": [
        "Coins"
      ],
      "metadata": {
        "id": "JIlYGZ1lSeei"
      }
    },
    {
      "cell_type": "code",
      "source": [
        "np.random.random() # random coin flip"
      ],
      "metadata": {
        "id": "Qo72tOfu5YTm"
      },
      "execution_count": null,
      "outputs": []
    },
    {
      "cell_type": "code",
      "source": [
        "np.random.random() > 0.5"
      ],
      "metadata": {
        "id": "Ew6vCebg5aXK"
      },
      "execution_count": null,
      "outputs": []
    },
    {
      "cell_type": "code",
      "source": [
        "def flip_coin():\n",
        "    if np.random.random() > 0.5:\n",
        "        print(\"Heads\")\n",
        "    else:\n",
        "        print(\"Tails\")"
      ],
      "metadata": {
        "id": "HwbqZHbm5e2u"
      },
      "execution_count": null,
      "outputs": []
    },
    {
      "cell_type": "code",
      "source": [
        "flip_coin()"
      ],
      "metadata": {
        "id": "ZcbnR1ln5sNh"
      },
      "execution_count": null,
      "outputs": []
    },
    {
      "cell_type": "markdown",
      "source": [
        "Graphics Output"
      ],
      "metadata": {
        "id": "h6wiHQxjUGua"
      }
    },
    {
      "cell_type": "code",
      "metadata": {
        "id": "WPnpRgBWpoSP"
      },
      "source": [
        "from IPython.core.display import display, HTML"
      ],
      "execution_count": null,
      "outputs": []
    },
    {
      "cell_type": "code",
      "metadata": {
        "id": "scoPAjX5I36X"
      },
      "source": [
        "display(HTML('<h1>Hello, world!</h1>'))"
      ],
      "execution_count": null,
      "outputs": []
    },
    {
      "cell_type": "code",
      "metadata": {
        "id": "vFHNmtSRpyXg"
      },
      "source": [
        "def coin():\n",
        "  return np.random.randint(2)"
      ],
      "execution_count": null,
      "outputs": []
    },
    {
      "cell_type": "code",
      "metadata": {
        "id": "AfAPWIjzp2gY"
      },
      "source": [
        "coin()"
      ],
      "execution_count": null,
      "outputs": []
    },
    {
      "cell_type": "code",
      "metadata": {
        "id": "m-fkSNLTp4TH"
      },
      "source": [
        "display(HTML('<img src=\"https://random-ize.com/coin-flip/us-quarter/us-quarter-front.jpg\">'))"
      ],
      "execution_count": null,
      "outputs": []
    },
    {
      "cell_type": "code",
      "metadata": {
        "id": "PAyD2RQrq8ji"
      },
      "source": [
        "heads = 'https://random-ize.com/coin-flip/us-quarter/us-quarter-front.jpg'\n",
        "tails = 'https://random-ize.com/coin-flip/us-quarter/us-quarter-back.jpg'"
      ],
      "execution_count": null,
      "outputs": []
    },
    {
      "cell_type": "code",
      "metadata": {
        "id": "BmZMzsCjrhaV"
      },
      "source": [
        "def show_img(img):\n",
        "  display(HTML('<img src=' + img + '>'))"
      ],
      "execution_count": null,
      "outputs": []
    },
    {
      "cell_type": "code",
      "metadata": {
        "id": "UmSs0Jtrr_d2"
      },
      "source": [
        "show_img(heads)"
      ],
      "execution_count": null,
      "outputs": []
    },
    {
      "cell_type": "code",
      "metadata": {
        "id": "LDcFpan0sBgm"
      },
      "source": [
        "show_img(tails)"
      ],
      "execution_count": null,
      "outputs": []
    },
    {
      "cell_type": "code",
      "metadata": {
        "id": "U1Oe2gBlsFFQ"
      },
      "source": [
        "def flip_coin():\n",
        "\n",
        "    if coin():\n",
        "        show_img(heads)\n",
        "    else:\n",
        "        show_img(tails)"
      ],
      "execution_count": null,
      "outputs": []
    },
    {
      "cell_type": "code",
      "metadata": {
        "id": "qatV0cO1tLAF"
      },
      "source": [
        "flip_coin()"
      ],
      "execution_count": null,
      "outputs": []
    },
    {
      "cell_type": "code",
      "source": [
        "for i in range(5):\n",
        "    flip_coin()"
      ],
      "metadata": {
        "id": "JK_63sBc9ze4"
      },
      "execution_count": null,
      "outputs": []
    },
    {
      "cell_type": "code",
      "metadata": {
        "id": "T6VX51Qwt4xb"
      },
      "source": [
        "# title Coin Flip\n",
        "\n",
        "if coin():\n",
        "\n",
        "  show_img(heads)\n",
        "\n",
        "else:\n",
        "\n",
        "  show_img(tails)"
      ],
      "execution_count": null,
      "outputs": []
    },
    {
      "cell_type": "markdown",
      "source": [
        "Cards"
      ],
      "metadata": {
        "id": "2ozLPZqjVEY1"
      }
    },
    {
      "cell_type": "code",
      "source": [
        "def shuffle(x): #shuffling choice \n",
        "    for i in range(len(x)-1,0,-1):\n",
        "        j = np.random.randint(0,i+1)\n",
        "        x[i],x[j] = x[j],x[i]\n",
        "        # print(j,x)\n",
        "    return x"
      ],
      "metadata": {
        "id": "Q7_rInrY0wvF"
      },
      "execution_count": null,
      "outputs": []
    },
    {
      "cell_type": "code",
      "source": [
        "a = np.arange(52)"
      ],
      "metadata": {
        "id": "b_ywmb911RR0"
      },
      "execution_count": null,
      "outputs": []
    },
    {
      "cell_type": "code",
      "source": [
        "shuffle(a)"
      ],
      "metadata": {
        "id": "hp96Lx2n9tCg"
      },
      "execution_count": null,
      "outputs": []
    },
    {
      "cell_type": "code",
      "source": [
        "np.random.permutation(52)"
      ],
      "metadata": {
        "id": "DRlb5RrU2Xpz"
      },
      "execution_count": null,
      "outputs": []
    },
    {
      "cell_type": "markdown",
      "source": [
        "Speed Test"
      ],
      "metadata": {
        "id": "pCEcQzG_VXr5"
      }
    },
    {
      "cell_type": "code",
      "source": [
        "%%timeit\n",
        "shuffle(a)"
      ],
      "metadata": {
        "id": "quhAyA2x-Dhg"
      },
      "execution_count": null,
      "outputs": []
    },
    {
      "cell_type": "code",
      "source": [
        "%%timeit\n",
        "np.random.permutation(52)"
      ],
      "metadata": {
        "id": "tSfGgWQD95RN"
      },
      "execution_count": null,
      "outputs": []
    },
    {
      "cell_type": "code",
      "source": [
        "import numpy as np"
      ],
      "metadata": {
        "id": "BeE0MU3UDB5P"
      },
      "execution_count": 8,
      "outputs": []
    },
    {
      "cell_type": "code",
      "source": [
        "np.random.permutation(52) #random numbers between 1 and 52"
      ],
      "metadata": {
        "colab": {
          "base_uri": "https://localhost:8080/"
        },
        "id": "2d81sDv-C5fC",
        "outputId": "5f5c3338-0026-4294-ec30-3b7533c15889"
      },
      "execution_count": 9,
      "outputs": [
        {
          "output_type": "execute_result",
          "data": {
            "text/plain": [
              "array([10, 40, 51, 22, 27, 13, 49, 37, 29, 17,  6, 30, 19, 24, 42,  9, 18,\n",
              "       32, 47,  3,  8, 38,  5, 44, 15, 31, 14,  4, 26, 11, 34, 16, 41, 43,\n",
              "        2, 28, 35, 45,  0, 50, 36, 12, 39, 46, 23, 20, 25, 48, 21,  1,  7,\n",
              "       33])"
            ]
          },
          "metadata": {},
          "execution_count": 9
        }
      ]
    },
    {
      "cell_type": "code",
      "source": [
        "cards = np.random.permutation(52)"
      ],
      "metadata": {
        "id": "utgxB3Hs-XzM"
      },
      "execution_count": 10,
      "outputs": []
    },
    {
      "cell_type": "code",
      "source": [
        "cards"
      ],
      "metadata": {
        "colab": {
          "base_uri": "https://localhost:8080/"
        },
        "id": "unNKPKtiVsm0",
        "outputId": "cfba1a3c-062b-499c-854d-f6907537c2e5"
      },
      "execution_count": 11,
      "outputs": [
        {
          "output_type": "execute_result",
          "data": {
            "text/plain": [
              "array([ 0,  1, 23, 17,  6, 46, 26,  4, 13, 49, 51, 33, 27, 45, 42, 16, 15,\n",
              "       18, 47, 40, 44, 19,  5, 35, 41,  8, 29, 22, 38, 37,  3, 43, 21, 30,\n",
              "       48, 10, 20, 34, 31,  9, 25, 39, 36, 24, 11, 50, 12, 14,  2, 32, 28,\n",
              "        7])"
            ]
          },
          "metadata": {},
          "execution_count": 11
        }
      ]
    },
    {
      "cell_type": "code",
      "source": [
        "cards[0]"
      ],
      "metadata": {
        "colab": {
          "base_uri": "https://localhost:8080/"
        },
        "id": "al3Md-tzVu-w",
        "outputId": "d589f7a3-6291-4f5e-95ad-973a5a8f8ecd"
      },
      "execution_count": 13,
      "outputs": [
        {
          "output_type": "execute_result",
          "data": {
            "text/plain": [
              "0"
            ]
          },
          "metadata": {},
          "execution_count": 13
        }
      ]
    },
    {
      "cell_type": "code",
      "source": [
        "cards[1]"
      ],
      "metadata": {
        "colab": {
          "base_uri": "https://localhost:8080/"
        },
        "id": "1i46j6Z5V1o4",
        "outputId": "8b644cb0-de35-4d3a-ff43-898efd869105"
      },
      "execution_count": 14,
      "outputs": [
        {
          "output_type": "execute_result",
          "data": {
            "text/plain": [
              "1"
            ]
          },
          "metadata": {},
          "execution_count": 14
        }
      ]
    },
    {
      "cell_type": "code",
      "source": [
        "cards[2] #cards picture imported through PC"
      ],
      "metadata": {
        "colab": {
          "base_uri": "https://localhost:8080/"
        },
        "id": "ZU0ShSFjV4EY",
        "outputId": "3714d40b-ed1b-4eb8-a98b-bb4df073005e"
      },
      "execution_count": 15,
      "outputs": [
        {
          "output_type": "execute_result",
          "data": {
            "text/plain": [
              "23"
            ]
          },
          "metadata": {},
          "execution_count": 15
        }
      ]
    },
    {
      "cell_type": "markdown",
      "source": [
        "![sfdfgefdgeg cards.png](data:image/png;base64,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)"
      ],
      "metadata": {
        "id": "CLZacJbbV-Xc"
      }
    },
    {
      "cell_type": "code",
      "source": [
        "np.arange(52).reshape(4,13) "
      ],
      "metadata": {
        "id": "X2kL-cZdeMLN",
        "colab": {
          "base_uri": "https://localhost:8080/"
        },
        "outputId": "61cd55c1-b505-4639-91a6-6f92381012f0"
      },
      "execution_count": 16,
      "outputs": [
        {
          "output_type": "execute_result",
          "data": {
            "text/plain": [
              "array([[ 0,  1,  2,  3,  4,  5,  6,  7,  8,  9, 10, 11, 12],\n",
              "       [13, 14, 15, 16, 17, 18, 19, 20, 21, 22, 23, 24, 25],\n",
              "       [26, 27, 28, 29, 30, 31, 32, 33, 34, 35, 36, 37, 38],\n",
              "       [39, 40, 41, 42, 43, 44, 45, 46, 47, 48, 49, 50, 51]])"
            ]
          },
          "metadata": {},
          "execution_count": 16
        }
      ]
    },
    {
      "cell_type": "code",
      "source": [
        "np.arange(52).reshape(4,13)%13"
      ],
      "metadata": {
        "id": "YfRxhh8BeV_a",
        "colab": {
          "base_uri": "https://localhost:8080/"
        },
        "outputId": "e7ca2e0f-fc8c-44cc-c528-c88381322b7d"
      },
      "execution_count": 17,
      "outputs": [
        {
          "output_type": "execute_result",
          "data": {
            "text/plain": [
              "array([[ 0,  1,  2,  3,  4,  5,  6,  7,  8,  9, 10, 11, 12],\n",
              "       [ 0,  1,  2,  3,  4,  5,  6,  7,  8,  9, 10, 11, 12],\n",
              "       [ 0,  1,  2,  3,  4,  5,  6,  7,  8,  9, 10, 11, 12],\n",
              "       [ 0,  1,  2,  3,  4,  5,  6,  7,  8,  9, 10, 11, 12]])"
            ]
          },
          "metadata": {},
          "execution_count": 17
        }
      ]
    },
    {
      "cell_type": "code",
      "source": [
        "np.arange(52).reshape(4,13)//13"
      ],
      "metadata": {
        "id": "fdzIqJr9e60L",
        "colab": {
          "base_uri": "https://localhost:8080/"
        },
        "outputId": "33fce459-fbea-4dce-d629-8e47c3b13d78"
      },
      "execution_count": 18,
      "outputs": [
        {
          "output_type": "execute_result",
          "data": {
            "text/plain": [
              "array([[0, 0, 0, 0, 0, 0, 0, 0, 0, 0, 0, 0, 0],\n",
              "       [1, 1, 1, 1, 1, 1, 1, 1, 1, 1, 1, 1, 1],\n",
              "       [2, 2, 2, 2, 2, 2, 2, 2, 2, 2, 2, 2, 2],\n",
              "       [3, 3, 3, 3, 3, 3, 3, 3, 3, 3, 3, 3, 3]])"
            ]
          },
          "metadata": {},
          "execution_count": 18
        }
      ]
    },
    {
      "cell_type": "code",
      "source": [
        "suits = ['Clubs','Spades','Hearts','Diamonds']\n",
        "names = ['Ace','Two','Three','Four','Five','Six','Seven','Eight','Nine','Ten','Jack','Queen','King']"
      ],
      "metadata": {
        "id": "-xUjbfkQfUgL"
      },
      "execution_count": 19,
      "outputs": []
    },
    {
      "cell_type": "code",
      "source": [
        "def card_name(card_number):\n",
        "    \n",
        "    suit = card_number//13\n",
        "    name = card_number%13\n",
        "\n",
        "    return names[name] + \" of \" + suits[suit]"
      ],
      "metadata": {
        "id": "-e-I-Cp7eFnx"
      },
      "execution_count": 20,
      "outputs": []
    },
    {
      "cell_type": "code",
      "source": [
        "card_name(0)"
      ],
      "metadata": {
        "colab": {
          "base_uri": "https://localhost:8080/",
          "height": 35
        },
        "id": "3Jz3yyAtGPfX",
        "outputId": "63387fc4-cc61-457b-c8a5-0650ced7381d"
      },
      "execution_count": 21,
      "outputs": [
        {
          "output_type": "execute_result",
          "data": {
            "text/plain": [
              "'Ace of Clubs'"
            ],
            "application/vnd.google.colaboratory.intrinsic+json": {
              "type": "string"
            }
          },
          "metadata": {},
          "execution_count": 21
        }
      ]
    },
    {
      "cell_type": "code",
      "source": [
        "card_name(51)"
      ],
      "metadata": {
        "colab": {
          "base_uri": "https://localhost:8080/",
          "height": 35
        },
        "id": "WO3GC8uiGPp-",
        "outputId": "0ba5f90e-6b1d-4712-865f-90c3709dca2b"
      },
      "execution_count": 22,
      "outputs": [
        {
          "output_type": "execute_result",
          "data": {
            "text/plain": [
              "'King of Diamonds'"
            ],
            "application/vnd.google.colaboratory.intrinsic+json": {
              "type": "string"
            }
          },
          "metadata": {},
          "execution_count": 22
        }
      ]
    },
    {
      "cell_type": "code",
      "source": [
        "cards = np.random.permutation(52)"
      ],
      "metadata": {
        "id": "fAMR6SY43iB_"
      },
      "execution_count": 23,
      "outputs": []
    },
    {
      "cell_type": "code",
      "source": [
        "top_of_deck         = card_name(cards[0])\n",
        "second_card_in_deck = card_name(cards[1])\n",
        "last_card_in_deck   = card_name(cards[-1])"
      ],
      "metadata": {
        "id": "XGAe8yPY3iCA"
      },
      "execution_count": 24,
      "outputs": []
    },
    {
      "cell_type": "code",
      "source": [
        "top_of_deck, second_card_in_deck, last_card_in_deck"
      ],
      "metadata": {
        "id": "erDo7giQ3fg6",
        "colab": {
          "base_uri": "https://localhost:8080/"
        },
        "outputId": "b0c22996-763d-46c0-bdae-74ad7f0ab607"
      },
      "execution_count": 25,
      "outputs": [
        {
          "output_type": "execute_result",
          "data": {
            "text/plain": [
              "('King of Spades', 'Seven of Hearts', 'Jack of Hearts')"
            ]
          },
          "metadata": {},
          "execution_count": 25
        }
      ]
    },
    {
      "cell_type": "code",
      "source": [
        "for i in range(5): #printing card names\n",
        "    print(card_name(cards[i]))"
      ],
      "metadata": {
        "id": "D_TDdCHv30GR",
        "colab": {
          "base_uri": "https://localhost:8080/"
        },
        "outputId": "1389c9f9-89b0-4906-e732-386bd01fcb9f"
      },
      "execution_count": 26,
      "outputs": [
        {
          "output_type": "stream",
          "name": "stdout",
          "text": [
            "King of Spades\n",
            "Seven of Hearts\n",
            "Queen of Hearts\n",
            "Eight of Clubs\n",
            "Nine of Hearts\n"
          ]
        }
      ]
    },
    {
      "cell_type": "code",
      "source": [
        "for i in range(15):\n",
        "    print(card_name(cards[i]))"
      ],
      "metadata": {
        "colab": {
          "base_uri": "https://localhost:8080/"
        },
        "id": "_g9tC5TNHvXh",
        "outputId": "b24dfcd5-484a-4cc8-aa7b-5b23824fe85f"
      },
      "execution_count": 27,
      "outputs": [
        {
          "output_type": "stream",
          "name": "stdout",
          "text": [
            "King of Spades\n",
            "Seven of Hearts\n",
            "Queen of Hearts\n",
            "Eight of Clubs\n",
            "Nine of Hearts\n",
            "Three of Spades\n",
            "Jack of Spades\n",
            "Nine of Spades\n",
            "Ten of Spades\n",
            "Two of Clubs\n",
            "Seven of Diamonds\n",
            "King of Clubs\n",
            "Six of Clubs\n",
            "Jack of Clubs\n",
            "Eight of Diamonds\n"
          ]
        }
      ]
    },
    {
      "cell_type": "code",
      "source": [
        "card_url_head = \"https://www.improvemagic.com/wp-content/uploads/2020/11/\"\n",
        "card_url_tail = \".png\""
      ],
      "metadata": {
        "id": "ZuGAbJIC_BGM"
      },
      "execution_count": 28,
      "outputs": []
    },
    {
      "cell_type": "code",
      "source": [
        "suit = ['k','p','s','l']\n",
        "card = ['a','2','3','4','5','6','7','8','9','10','j','q','k']"
      ],
      "metadata": {
        "id": "FSYUTq2F_BIx"
      },
      "execution_count": 29,
      "outputs": []
    },
    {
      "cell_type": "code",
      "source": [
        "i = np.random.randint(4)\n",
        "j = np.random.randint(13)"
      ],
      "metadata": {
        "id": "4UBNVwxU_BL5"
      },
      "execution_count": 30,
      "outputs": []
    },
    {
      "cell_type": "code",
      "source": [
        "i,j"
      ],
      "metadata": {
        "colab": {
          "base_uri": "https://localhost:8080/"
        },
        "id": "pAx5veOKJYqk",
        "outputId": "9fd11fea-a19e-466e-eb4b-84910cfc71ba"
      },
      "execution_count": 31,
      "outputs": [
        {
          "output_type": "execute_result",
          "data": {
            "text/plain": [
              "(2, 5)"
            ]
          },
          "metadata": {},
          "execution_count": 31
        }
      ]
    },
    {
      "cell_type": "code",
      "source": [
        "suit[i]"
      ],
      "metadata": {
        "id": "PJI87rOLADjE",
        "colab": {
          "base_uri": "https://localhost:8080/",
          "height": 35
        },
        "outputId": "3f8656f0-27b0-40d1-c312-5185faee0329"
      },
      "execution_count": 32,
      "outputs": [
        {
          "output_type": "execute_result",
          "data": {
            "text/plain": [
              "'s'"
            ],
            "application/vnd.google.colaboratory.intrinsic+json": {
              "type": "string"
            }
          },
          "metadata": {},
          "execution_count": 32
        }
      ]
    },
    {
      "cell_type": "code",
      "source": [
        "card[j]"
      ],
      "metadata": {
        "id": "4CDlPu3QAGrB",
        "colab": {
          "base_uri": "https://localhost:8080/",
          "height": 35
        },
        "outputId": "159ff0ae-dc9f-4fb4-f97d-9609f32a0b72"
      },
      "execution_count": 33,
      "outputs": [
        {
          "output_type": "execute_result",
          "data": {
            "text/plain": [
              "'6'"
            ],
            "application/vnd.google.colaboratory.intrinsic+json": {
              "type": "string"
            }
          },
          "metadata": {},
          "execution_count": 33
        }
      ]
    },
    {
      "cell_type": "code",
      "source": [
        "from IPython.core.display import display, HTML"
      ],
      "metadata": {
        "id": "nMrvAOnhK7EK"
      },
      "execution_count": 34,
      "outputs": []
    },
    {
      "cell_type": "code",
      "source": [
        "def show_img(img):\n",
        "  display(HTML('<img src=' + img + '>'))"
      ],
      "metadata": {
        "id": "sdXvvvlkAI6h"
      },
      "execution_count": 35,
      "outputs": []
    },
    {
      "cell_type": "code",
      "source": [
        "img = card_url_head + suit[i] + card[j] + card_url_tail"
      ],
      "metadata": {
        "id": "ZE-ENtczAVsM"
      },
      "execution_count": 36,
      "outputs": []
    },
    {
      "cell_type": "code",
      "source": [
        "show_img(img) #showing card image "
      ],
      "metadata": {
        "id": "XJpPMK-NAVu4",
        "colab": {
          "base_uri": "https://localhost:8080/",
          "height": 333
        },
        "outputId": "3800267a-ab9c-4bac-c608-4ca90023fd22"
      },
      "execution_count": 37,
      "outputs": [
        {
          "output_type": "display_data",
          "data": {
            "text/plain": [
              "<IPython.core.display.HTML object>"
            ],
            "text/html": [
              "<img src=https://www.improvemagic.com/wp-content/uploads/2020/11/s6.png>"
            ]
          },
          "metadata": {}
        }
      ]
    },
    {
      "cell_type": "code",
      "source": [],
      "metadata": {
        "id": "BPMosMcYX5hp"
      },
      "execution_count": null,
      "outputs": []
    },
    {
      "cell_type": "code",
      "source": [
        "def card_image(card_number):\n",
        "    \n",
        "    i = card_number//13\n",
        "    j = card_number%13\n",
        "\n",
        "    return suit[i]+card[j]"
      ],
      "metadata": {
        "id": "JtqOFl_WAVxd"
      },
      "execution_count": 38,
      "outputs": []
    },
    {
      "cell_type": "code",
      "source": [
        "card_image(3)"
      ],
      "metadata": {
        "id": "K1MVgXJ-AVz0",
        "colab": {
          "base_uri": "https://localhost:8080/",
          "height": 35
        },
        "outputId": "54340db2-0ae6-4365-cd50-53228cdf4c09"
      },
      "execution_count": 39,
      "outputs": [
        {
          "output_type": "execute_result",
          "data": {
            "text/plain": [
              "'k4'"
            ],
            "application/vnd.google.colaboratory.intrinsic+json": {
              "type": "string"
            }
          },
          "metadata": {},
          "execution_count": 39
        }
      ]
    },
    {
      "cell_type": "code",
      "source": [
        "img = card_url_head + card_image(3) + card_url_tail"
      ],
      "metadata": {
        "id": "2TGYbXUiB1iw"
      },
      "execution_count": 40,
      "outputs": []
    },
    {
      "cell_type": "code",
      "source": [
        "show_img(img)"
      ],
      "metadata": {
        "id": "Ve1UcoH3B5sS",
        "colab": {
          "base_uri": "https://localhost:8080/",
          "height": 333
        },
        "outputId": "b94397e5-177a-4a75-da99-d88eb55b0cb3"
      },
      "execution_count": 41,
      "outputs": [
        {
          "output_type": "display_data",
          "data": {
            "text/plain": [
              "<IPython.core.display.HTML object>"
            ],
            "text/html": [
              "<img src=https://www.improvemagic.com/wp-content/uploads/2020/11/k4.png>"
            ]
          },
          "metadata": {}
        }
      ]
    },
    {
      "cell_type": "code",
      "source": [
        "for i in range(52):\n",
        "    img = card_url_head + card_image(i) + card_url_tail\n",
        "    show_img(img)"
      ],
      "metadata": {
        "id": "UCervcFTB5ut",
        "colab": {
          "base_uri": "https://localhost:8080/",
          "height": 1000
        },
        "outputId": "cb6346d5-2824-4e33-d317-df3c66e9f86e"
      },
      "execution_count": 42,
      "outputs": [
        {
          "output_type": "display_data",
          "data": {
            "text/plain": [
              "<IPython.core.display.HTML object>"
            ],
            "text/html": [
              "<img src=https://www.improvemagic.com/wp-content/uploads/2020/11/ka.png>"
            ]
          },
          "metadata": {}
        },
        {
          "output_type": "display_data",
          "data": {
            "text/plain": [
              "<IPython.core.display.HTML object>"
            ],
            "text/html": [
              "<img src=https://www.improvemagic.com/wp-content/uploads/2020/11/k2.png>"
            ]
          },
          "metadata": {}
        },
        {
          "output_type": "display_data",
          "data": {
            "text/plain": [
              "<IPython.core.display.HTML object>"
            ],
            "text/html": [
              "<img src=https://www.improvemagic.com/wp-content/uploads/2020/11/k3.png>"
            ]
          },
          "metadata": {}
        },
        {
          "output_type": "display_data",
          "data": {
            "text/plain": [
              "<IPython.core.display.HTML object>"
            ],
            "text/html": [
              "<img src=https://www.improvemagic.com/wp-content/uploads/2020/11/k4.png>"
            ]
          },
          "metadata": {}
        },
        {
          "output_type": "display_data",
          "data": {
            "text/plain": [
              "<IPython.core.display.HTML object>"
            ],
            "text/html": [
              "<img src=https://www.improvemagic.com/wp-content/uploads/2020/11/k5.png>"
            ]
          },
          "metadata": {}
        },
        {
          "output_type": "display_data",
          "data": {
            "text/plain": [
              "<IPython.core.display.HTML object>"
            ],
            "text/html": [
              "<img src=https://www.improvemagic.com/wp-content/uploads/2020/11/k6.png>"
            ]
          },
          "metadata": {}
        },
        {
          "output_type": "display_data",
          "data": {
            "text/plain": [
              "<IPython.core.display.HTML object>"
            ],
            "text/html": [
              "<img src=https://www.improvemagic.com/wp-content/uploads/2020/11/k7.png>"
            ]
          },
          "metadata": {}
        },
        {
          "output_type": "display_data",
          "data": {
            "text/plain": [
              "<IPython.core.display.HTML object>"
            ],
            "text/html": [
              "<img src=https://www.improvemagic.com/wp-content/uploads/2020/11/k8.png>"
            ]
          },
          "metadata": {}
        },
        {
          "output_type": "display_data",
          "data": {
            "text/plain": [
              "<IPython.core.display.HTML object>"
            ],
            "text/html": [
              "<img src=https://www.improvemagic.com/wp-content/uploads/2020/11/k9.png>"
            ]
          },
          "metadata": {}
        },
        {
          "output_type": "display_data",
          "data": {
            "text/plain": [
              "<IPython.core.display.HTML object>"
            ],
            "text/html": [
              "<img src=https://www.improvemagic.com/wp-content/uploads/2020/11/k10.png>"
            ]
          },
          "metadata": {}
        },
        {
          "output_type": "display_data",
          "data": {
            "text/plain": [
              "<IPython.core.display.HTML object>"
            ],
            "text/html": [
              "<img src=https://www.improvemagic.com/wp-content/uploads/2020/11/kj.png>"
            ]
          },
          "metadata": {}
        },
        {
          "output_type": "display_data",
          "data": {
            "text/plain": [
              "<IPython.core.display.HTML object>"
            ],
            "text/html": [
              "<img src=https://www.improvemagic.com/wp-content/uploads/2020/11/kq.png>"
            ]
          },
          "metadata": {}
        },
        {
          "output_type": "display_data",
          "data": {
            "text/plain": [
              "<IPython.core.display.HTML object>"
            ],
            "text/html": [
              "<img src=https://www.improvemagic.com/wp-content/uploads/2020/11/kk.png>"
            ]
          },
          "metadata": {}
        },
        {
          "output_type": "display_data",
          "data": {
            "text/plain": [
              "<IPython.core.display.HTML object>"
            ],
            "text/html": [
              "<img src=https://www.improvemagic.com/wp-content/uploads/2020/11/pa.png>"
            ]
          },
          "metadata": {}
        },
        {
          "output_type": "display_data",
          "data": {
            "text/plain": [
              "<IPython.core.display.HTML object>"
            ],
            "text/html": [
              "<img src=https://www.improvemagic.com/wp-content/uploads/2020/11/p2.png>"
            ]
          },
          "metadata": {}
        },
        {
          "output_type": "display_data",
          "data": {
            "text/plain": [
              "<IPython.core.display.HTML object>"
            ],
            "text/html": [
              "<img src=https://www.improvemagic.com/wp-content/uploads/2020/11/p3.png>"
            ]
          },
          "metadata": {}
        },
        {
          "output_type": "display_data",
          "data": {
            "text/plain": [
              "<IPython.core.display.HTML object>"
            ],
            "text/html": [
              "<img src=https://www.improvemagic.com/wp-content/uploads/2020/11/p4.png>"
            ]
          },
          "metadata": {}
        },
        {
          "output_type": "display_data",
          "data": {
            "text/plain": [
              "<IPython.core.display.HTML object>"
            ],
            "text/html": [
              "<img src=https://www.improvemagic.com/wp-content/uploads/2020/11/p5.png>"
            ]
          },
          "metadata": {}
        },
        {
          "output_type": "display_data",
          "data": {
            "text/plain": [
              "<IPython.core.display.HTML object>"
            ],
            "text/html": [
              "<img src=https://www.improvemagic.com/wp-content/uploads/2020/11/p6.png>"
            ]
          },
          "metadata": {}
        },
        {
          "output_type": "display_data",
          "data": {
            "text/plain": [
              "<IPython.core.display.HTML object>"
            ],
            "text/html": [
              "<img src=https://www.improvemagic.com/wp-content/uploads/2020/11/p7.png>"
            ]
          },
          "metadata": {}
        },
        {
          "output_type": "display_data",
          "data": {
            "text/plain": [
              "<IPython.core.display.HTML object>"
            ],
            "text/html": [
              "<img src=https://www.improvemagic.com/wp-content/uploads/2020/11/p8.png>"
            ]
          },
          "metadata": {}
        },
        {
          "output_type": "display_data",
          "data": {
            "text/plain": [
              "<IPython.core.display.HTML object>"
            ],
            "text/html": [
              "<img src=https://www.improvemagic.com/wp-content/uploads/2020/11/p9.png>"
            ]
          },
          "metadata": {}
        },
        {
          "output_type": "display_data",
          "data": {
            "text/plain": [
              "<IPython.core.display.HTML object>"
            ],
            "text/html": [
              "<img src=https://www.improvemagic.com/wp-content/uploads/2020/11/p10.png>"
            ]
          },
          "metadata": {}
        },
        {
          "output_type": "display_data",
          "data": {
            "text/plain": [
              "<IPython.core.display.HTML object>"
            ],
            "text/html": [
              "<img src=https://www.improvemagic.com/wp-content/uploads/2020/11/pj.png>"
            ]
          },
          "metadata": {}
        },
        {
          "output_type": "display_data",
          "data": {
            "text/plain": [
              "<IPython.core.display.HTML object>"
            ],
            "text/html": [
              "<img src=https://www.improvemagic.com/wp-content/uploads/2020/11/pq.png>"
            ]
          },
          "metadata": {}
        },
        {
          "output_type": "display_data",
          "data": {
            "text/plain": [
              "<IPython.core.display.HTML object>"
            ],
            "text/html": [
              "<img src=https://www.improvemagic.com/wp-content/uploads/2020/11/pk.png>"
            ]
          },
          "metadata": {}
        },
        {
          "output_type": "display_data",
          "data": {
            "text/plain": [
              "<IPython.core.display.HTML object>"
            ],
            "text/html": [
              "<img src=https://www.improvemagic.com/wp-content/uploads/2020/11/sa.png>"
            ]
          },
          "metadata": {}
        },
        {
          "output_type": "display_data",
          "data": {
            "text/plain": [
              "<IPython.core.display.HTML object>"
            ],
            "text/html": [
              "<img src=https://www.improvemagic.com/wp-content/uploads/2020/11/s2.png>"
            ]
          },
          "metadata": {}
        },
        {
          "output_type": "display_data",
          "data": {
            "text/plain": [
              "<IPython.core.display.HTML object>"
            ],
            "text/html": [
              "<img src=https://www.improvemagic.com/wp-content/uploads/2020/11/s3.png>"
            ]
          },
          "metadata": {}
        },
        {
          "output_type": "display_data",
          "data": {
            "text/plain": [
              "<IPython.core.display.HTML object>"
            ],
            "text/html": [
              "<img src=https://www.improvemagic.com/wp-content/uploads/2020/11/s4.png>"
            ]
          },
          "metadata": {}
        },
        {
          "output_type": "display_data",
          "data": {
            "text/plain": [
              "<IPython.core.display.HTML object>"
            ],
            "text/html": [
              "<img src=https://www.improvemagic.com/wp-content/uploads/2020/11/s5.png>"
            ]
          },
          "metadata": {}
        },
        {
          "output_type": "display_data",
          "data": {
            "text/plain": [
              "<IPython.core.display.HTML object>"
            ],
            "text/html": [
              "<img src=https://www.improvemagic.com/wp-content/uploads/2020/11/s6.png>"
            ]
          },
          "metadata": {}
        },
        {
          "output_type": "display_data",
          "data": {
            "text/plain": [
              "<IPython.core.display.HTML object>"
            ],
            "text/html": [
              "<img src=https://www.improvemagic.com/wp-content/uploads/2020/11/s7.png>"
            ]
          },
          "metadata": {}
        },
        {
          "output_type": "display_data",
          "data": {
            "text/plain": [
              "<IPython.core.display.HTML object>"
            ],
            "text/html": [
              "<img src=https://www.improvemagic.com/wp-content/uploads/2020/11/s8.png>"
            ]
          },
          "metadata": {}
        },
        {
          "output_type": "display_data",
          "data": {
            "text/plain": [
              "<IPython.core.display.HTML object>"
            ],
            "text/html": [
              "<img src=https://www.improvemagic.com/wp-content/uploads/2020/11/s9.png>"
            ]
          },
          "metadata": {}
        },
        {
          "output_type": "display_data",
          "data": {
            "text/plain": [
              "<IPython.core.display.HTML object>"
            ],
            "text/html": [
              "<img src=https://www.improvemagic.com/wp-content/uploads/2020/11/s10.png>"
            ]
          },
          "metadata": {}
        },
        {
          "output_type": "display_data",
          "data": {
            "text/plain": [
              "<IPython.core.display.HTML object>"
            ],
            "text/html": [
              "<img src=https://www.improvemagic.com/wp-content/uploads/2020/11/sj.png>"
            ]
          },
          "metadata": {}
        },
        {
          "output_type": "display_data",
          "data": {
            "text/plain": [
              "<IPython.core.display.HTML object>"
            ],
            "text/html": [
              "<img src=https://www.improvemagic.com/wp-content/uploads/2020/11/sq.png>"
            ]
          },
          "metadata": {}
        },
        {
          "output_type": "display_data",
          "data": {
            "text/plain": [
              "<IPython.core.display.HTML object>"
            ],
            "text/html": [
              "<img src=https://www.improvemagic.com/wp-content/uploads/2020/11/sk.png>"
            ]
          },
          "metadata": {}
        },
        {
          "output_type": "display_data",
          "data": {
            "text/plain": [
              "<IPython.core.display.HTML object>"
            ],
            "text/html": [
              "<img src=https://www.improvemagic.com/wp-content/uploads/2020/11/la.png>"
            ]
          },
          "metadata": {}
        },
        {
          "output_type": "display_data",
          "data": {
            "text/plain": [
              "<IPython.core.display.HTML object>"
            ],
            "text/html": [
              "<img src=https://www.improvemagic.com/wp-content/uploads/2020/11/l2.png>"
            ]
          },
          "metadata": {}
        },
        {
          "output_type": "display_data",
          "data": {
            "text/plain": [
              "<IPython.core.display.HTML object>"
            ],
            "text/html": [
              "<img src=https://www.improvemagic.com/wp-content/uploads/2020/11/l3.png>"
            ]
          },
          "metadata": {}
        },
        {
          "output_type": "display_data",
          "data": {
            "text/plain": [
              "<IPython.core.display.HTML object>"
            ],
            "text/html": [
              "<img src=https://www.improvemagic.com/wp-content/uploads/2020/11/l4.png>"
            ]
          },
          "metadata": {}
        },
        {
          "output_type": "display_data",
          "data": {
            "text/plain": [
              "<IPython.core.display.HTML object>"
            ],
            "text/html": [
              "<img src=https://www.improvemagic.com/wp-content/uploads/2020/11/l5.png>"
            ]
          },
          "metadata": {}
        },
        {
          "output_type": "display_data",
          "data": {
            "text/plain": [
              "<IPython.core.display.HTML object>"
            ],
            "text/html": [
              "<img src=https://www.improvemagic.com/wp-content/uploads/2020/11/l6.png>"
            ]
          },
          "metadata": {}
        },
        {
          "output_type": "display_data",
          "data": {
            "text/plain": [
              "<IPython.core.display.HTML object>"
            ],
            "text/html": [
              "<img src=https://www.improvemagic.com/wp-content/uploads/2020/11/l7.png>"
            ]
          },
          "metadata": {}
        },
        {
          "output_type": "display_data",
          "data": {
            "text/plain": [
              "<IPython.core.display.HTML object>"
            ],
            "text/html": [
              "<img src=https://www.improvemagic.com/wp-content/uploads/2020/11/l8.png>"
            ]
          },
          "metadata": {}
        },
        {
          "output_type": "display_data",
          "data": {
            "text/plain": [
              "<IPython.core.display.HTML object>"
            ],
            "text/html": [
              "<img src=https://www.improvemagic.com/wp-content/uploads/2020/11/l9.png>"
            ]
          },
          "metadata": {}
        },
        {
          "output_type": "display_data",
          "data": {
            "text/plain": [
              "<IPython.core.display.HTML object>"
            ],
            "text/html": [
              "<img src=https://www.improvemagic.com/wp-content/uploads/2020/11/l10.png>"
            ]
          },
          "metadata": {}
        },
        {
          "output_type": "display_data",
          "data": {
            "text/plain": [
              "<IPython.core.display.HTML object>"
            ],
            "text/html": [
              "<img src=https://www.improvemagic.com/wp-content/uploads/2020/11/lj.png>"
            ]
          },
          "metadata": {}
        },
        {
          "output_type": "display_data",
          "data": {
            "text/plain": [
              "<IPython.core.display.HTML object>"
            ],
            "text/html": [
              "<img src=https://www.improvemagic.com/wp-content/uploads/2020/11/lq.png>"
            ]
          },
          "metadata": {}
        },
        {
          "output_type": "display_data",
          "data": {
            "text/plain": [
              "<IPython.core.display.HTML object>"
            ],
            "text/html": [
              "<img src=https://www.improvemagic.com/wp-content/uploads/2020/11/lk.png>"
            ]
          },
          "metadata": {}
        }
      ]
    }
  ]
}